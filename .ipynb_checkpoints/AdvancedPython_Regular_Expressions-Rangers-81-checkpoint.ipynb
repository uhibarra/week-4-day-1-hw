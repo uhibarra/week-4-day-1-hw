{
 "cells": [
  {
   "cell_type": "markdown",
   "metadata": {},
   "source": [
    "# Regular Expressions"
   ]
  },
  {
   "cell_type": "markdown",
   "metadata": {},
   "source": [
    "# Tasks today:\n",
    "1) <b>Importing</b> <br>\n",
    "2) <b>Using Regular Expressions</b> <br>\n",
    " &nbsp;&nbsp;&nbsp;&nbsp; a) re.compile() <br>\n",
    " &nbsp;&nbsp;&nbsp;&nbsp; b) re.match() <br>\n",
    " &nbsp;&nbsp;&nbsp;&nbsp; c) re.findall() <br>\n",
    " &nbsp;&nbsp;&nbsp;&nbsp; d) re.search() <br>\n",
    "3) <b>Sets</b> <br>\n",
    " &nbsp;&nbsp;&nbsp;&nbsp; a) Integer Ranges <br>\n",
    " &nbsp;&nbsp;&nbsp;&nbsp; b) Character Ranges <br>\n",
    "4) <b>Counting Occurences</b> <br>\n",
    " &nbsp;&nbsp;&nbsp;&nbsp; a) {x} <br>\n",
    " &nbsp;&nbsp;&nbsp;&nbsp; b) {, x} <br>\n",
    " &nbsp;&nbsp;&nbsp;&nbsp; c) {?} <br>\n",
    " &nbsp;&nbsp;&nbsp;&nbsp; d) {*} <br>\n",
    " &nbsp;&nbsp;&nbsp;&nbsp; e) {+} <br>\n",
    "5) <b>In-Class Exercise #1</b> <br>\n",
    "6) <b>Escaping Characters</b> <br>\n",
    "7) <b>Grouping</b> <br>\n",
    "8) <b>In-Class Exercise #2</b> <br>\n",
    "9) <b>Opening a File</b> <br>\n",
    " &nbsp;&nbsp;&nbsp;&nbsp; a) open() <br>\n",
    " &nbsp;&nbsp;&nbsp;&nbsp; b) with open() <br>\n",
    " &nbsp;&nbsp;&nbsp;&nbsp; c) re.match() <br>\n",
    " &nbsp;&nbsp;&nbsp;&nbsp; d) re.search() <br>\n",
    " &nbsp;&nbsp;&nbsp;&nbsp; e) Store the String in a Variable <br>\n",
    "10) <b>Regex Project</b> <br>"
   ]
  },
  {
   "cell_type": "markdown",
   "metadata": {},
   "source": [
    "### Importing <br>\n",
    "<p>Regular Expressions are universal throughout most programming languages... They are generally imported through the module 're'.</p>"
   ]
  },
  {
   "cell_type": "code",
   "execution_count": 1,
   "metadata": {},
   "outputs": [],
   "source": [
    "# import re\n",
    "import re"
   ]
  },
  {
   "cell_type": "markdown",
   "metadata": {},
   "source": [
    "### Using Regular Expressions <br>\n",
    "<p>Regular expressions give us the ability to search for patterns within text, strings, files, etc. They serve several uses, such as; security measures, searching, filtering, pattern recognition, and more...</p>"
   ]
  },
  {
   "cell_type": "markdown",
   "metadata": {},
   "source": [
    "##### re.compile()"
   ]
  },
  {
   "cell_type": "code",
   "execution_count": 80,
   "metadata": {},
   "outputs": [],
   "source": [
    "# using compile, pre determines the string to be used in regular expression methods\n",
    "pattern = re.compile('abcd')\n"
   ]
  },
  {
   "cell_type": "markdown",
   "metadata": {},
   "source": [
    "##### re.match()"
   ]
  },
  {
   "cell_type": "code",
   "execution_count": 81,
   "metadata": {},
   "outputs": [
    {
     "name": "stdout",
     "output_type": "stream",
     "text": [
      "<re.Match object; span=(0, 4), match='abcd'>\n",
      "(0, 4)\n"
     ]
    }
   ],
   "source": [
    "match = pattern.match('abcd123')\n",
    "print(match)\n",
    "\n",
    "# Accessing the span of the match\n",
    "print(match.span())"
   ]
  },
  {
   "cell_type": "markdown",
   "metadata": {},
   "source": [
    "##### re.findall()"
   ]
  },
  {
   "cell_type": "code",
   "execution_count": 4,
   "metadata": {},
   "outputs": [
    {
     "name": "stdout",
     "output_type": "stream",
     "text": [
      "['abcd', 'abcd', 'abcd']\n",
      "Help on function findall in module re:\n",
      "\n",
      "findall(pattern, string, flags=0)\n",
      "    Return a list of all non-overlapping matches in the string.\n",
      "    \n",
      "    If one or more capturing groups are present in the pattern, return\n",
      "    a list of groups; this will be a list of tuples if the pattern\n",
      "    has more than one group.\n",
      "    \n",
      "    Empty matches are included in the result.\n",
      "\n"
     ]
    }
   ],
   "source": [
    "finders = pattern.findall('123abcd abcd123 abcd abcabc acb')\n",
    "print(finders)\n",
    "help(re.findall)"
   ]
  },
  {
   "cell_type": "markdown",
   "metadata": {},
   "source": [
    "##### re.search()"
   ]
  },
  {
   "cell_type": "code",
   "execution_count": 5,
   "metadata": {},
   "outputs": [
    {
     "name": "stdout",
     "output_type": "stream",
     "text": [
      "<re.Match object; span=(12, 16), match='abcd'>\n",
      "(12, 16) <class 'tuple'>\n",
      "abcd\n",
      "abcd\n"
     ]
    }
   ],
   "source": [
    "random_string = '123 123 234 abcd abc'\n",
    "\n",
    "search = pattern.search(random_string)\n",
    "print(search)\n",
    "\n",
    "span = search.span()\n",
    "print(span, type(span))\n",
    "print(random_string[span[0] : span[1]])\n",
    "print(random_string[12:16])"
   ]
  },
  {
   "cell_type": "markdown",
   "metadata": {},
   "source": [
    "### Sets <br>\n",
    "<p>The following cells will allow you to use regular expressions to search for certain values within a range such as numbers 1 through 4.</p>"
   ]
  },
  {
   "cell_type": "markdown",
   "metadata": {},
   "source": [
    "##### [a-z] or [A-Z] - any lowercase/uppercase letters from a to z<br/>[^2] - anything that's not 2"
   ]
  },
  {
   "cell_type": "markdown",
   "metadata": {},
   "source": [
    "##### Integer Ranges"
   ]
  },
  {
   "cell_type": "code",
   "execution_count": 6,
   "metadata": {},
   "outputs": [
    {
     "name": "stdout",
     "output_type": "stream",
     "text": [
      "673\n",
      "['673']\n"
     ]
    }
   ],
   "source": [
    "pattern_int = re.compile('[0-7][7-9][0-3]')\n",
    "\n",
    "random_numbers = pattern_int.search('67383')\n",
    "span = random_numbers.span()\n",
    "print(random_numbers[span[0]])\n",
    "\n",
    "find_randoms = pattern_int.findall('67383')\n",
    "print(find_randoms)"
   ]
  },
  {
   "cell_type": "markdown",
   "metadata": {},
   "source": [
    "##### Character Ranges"
   ]
  },
  {
   "cell_type": "code",
   "execution_count": 7,
   "metadata": {},
   "outputs": [
    {
     "name": "stdout",
     "output_type": "stream",
     "text": [
      "['He', 'Th', 'Mr', 'An']\n",
      "Help on function compile in module re:\n",
      "\n",
      "compile(pattern, flags=0)\n",
      "    Compile a regular expression pattern, returning a Pattern object.\n",
      "\n"
     ]
    }
   ],
   "source": [
    "char_pattern = re.compile('[A-Z][a-z]')\n",
    "\n",
    "found = char_pattern.findall('Hello There Mr.Anderson')\n",
    "print(found)\n",
    "help(re.compile)"
   ]
  },
  {
   "cell_type": "markdown",
   "metadata": {},
   "source": [
    "### Counting Occurences"
   ]
  },
  {
   "cell_type": "markdown",
   "metadata": {},
   "source": [
    "##### {x} - something that occurs {num_of_times}"
   ]
  },
  {
   "cell_type": "code",
   "execution_count": 20,
   "metadata": {},
   "outputs": [
    {
     "ename": "NameError",
     "evalue": "name 'char_pattern_count' is not defined",
     "output_type": "error",
     "traceback": [
      "\u001b[1;31m---------------------------------------------------------------------------\u001b[0m",
      "\u001b[1;31mNameError\u001b[0m                                 Traceback (most recent call last)",
      "\u001b[1;32m~\\AppData\\Local\\Temp/ipykernel_9000/62156948.py\u001b[0m in \u001b[0;36m<module>\u001b[1;34m\u001b[0m\n\u001b[0;32m      1\u001b[0m \u001b[0mchat_pattern_count\u001b[0m \u001b[1;33m=\u001b[0m \u001b[0mre\u001b[0m\u001b[1;33m.\u001b[0m\u001b[0mcompile\u001b[0m\u001b[1;33m(\u001b[0m\u001b[1;34m'[A-Z][a-z][0-3]{2}'\u001b[0m\u001b[1;33m)\u001b[0m\u001b[1;33m\u001b[0m\u001b[1;33m\u001b[0m\u001b[0m\n\u001b[1;32m----> 2\u001b[1;33m \u001b[0mfound_count\u001b[0m \u001b[1;33m=\u001b[0m \u001b[0mchar_pattern_count\u001b[0m\u001b[1;33m.\u001b[0m\u001b[0mfindall\u001b[0m\u001b[1;33m(\u001b[0m\u001b[1;34m'Hello Mrs. Gu00mp'\u001b[0m\u001b[1;33m)\u001b[0m\u001b[1;33m\u001b[0m\u001b[1;33m\u001b[0m\u001b[0m\n\u001b[0m\u001b[0;32m      3\u001b[0m \u001b[0mprint\u001b[0m\u001b[1;33m(\u001b[0m\u001b[0mfound_count\u001b[0m\u001b[1;33m)\u001b[0m\u001b[1;33m\u001b[0m\u001b[1;33m\u001b[0m\u001b[0m\n",
      "\u001b[1;31mNameError\u001b[0m: name 'char_pattern_count' is not defined"
     ]
    }
   ],
   "source": [
    "chat_pattern_count = re.compile('[A-Z][a-z][0-3]{2}')\n",
    "found_count = char_pattern_count.findall('Hello Mrs. Gu00mp')\n",
    "print(found_count)"
   ]
  },
  {
   "cell_type": "markdown",
   "metadata": {},
   "source": [
    "##### {x, x} - something that occurs between x and x times"
   ]
  },
  {
   "cell_type": "code",
   "execution_count": 12,
   "metadata": {
    "scrolled": true
   },
   "outputs": [
    {
     "name": "stdout",
     "output_type": "stream",
     "text": [
      "['m', 'm', 'm', 'mmm', 'mmmmm']\n"
     ]
    }
   ],
   "source": [
    "    random_pattern = re.compile('m{1,5}')\n",
    "    random_statement = random_pattern.findall('This is an example of a regular expression trying to find one m, more than one mmm or five mmmmms ')\n",
    "    print(random_statement)"
   ]
  },
  {
   "cell_type": "markdown",
   "metadata": {},
   "source": [
    "##### ? - something that occurs 0 or 1 time"
   ]
  },
  {
   "cell_type": "code",
   "execution_count": 13,
   "metadata": {},
   "outputs": [
    {
     "name": "stdout",
     "output_type": "stream",
     "text": [
      "['Mr', 'Mrs']\n"
     ]
    }
   ],
   "source": [
    "# optional\n",
    "pattern = re.compile('Mrs?')\n",
    "found_pat = pattern.findall('Mr and Mrs M&M are on their honeymoon.')\n",
    "print(found_pat)"
   ]
  },
  {
   "cell_type": "markdown",
   "metadata": {},
   "source": [
    "##### * - something that occurs at least 0 times"
   ]
  },
  {
   "cell_type": "code",
   "execution_count": 14,
   "metadata": {},
   "outputs": [
    {
     "name": "stdout",
     "output_type": "stream",
     "text": [
      "['MMMs', 's', 's', 'MMMs', 's', 's', 's', 's', 's', 'Ms', 'Ms', 's', 's']\n"
     ]
    }
   ],
   "source": [
    "pattern_m = re.compile('M*s')\n",
    "found_m = pattern_m.findall('MMMs someone likes M&MMMsssss and her name is Ms. Msss')\n",
    "\n",
    "print(found_m)"
   ]
  },
  {
   "cell_type": "markdown",
   "metadata": {},
   "source": [
    "##### + - something that occurs at least once"
   ]
  },
  {
   "cell_type": "code",
   "execution_count": 15,
   "metadata": {},
   "outputs": [
    {
     "name": "stdout",
     "output_type": "stream",
     "text": [
      "['MMMs', 'MMMs', 'Ms', 'Ms']\n"
     ]
    }
   ],
   "source": [
    "pattern_again = re.compile('M+s')\n",
    "found_patt = pattern_again.findall('MMMs someone likes M&MMMsssss and her name is Ms. Msss')\n",
    "\n",
    "print(found_patt)"
   ]
  },
  {
   "cell_type": "markdown",
   "metadata": {},
   "source": [
    "##### In-class exercise 1: \n",
    "\n",
    "Use a regular expression to find every number in the given string"
   ]
  },
  {
   "cell_type": "code",
   "execution_count": 22,
   "metadata": {},
   "outputs": [
    {
     "name": "stdout",
     "output_type": "stream",
     "text": [
      "['10909090', '1', '2']\n"
     ]
    }
   ],
   "source": [
    "my_string = \"This string has 10909090 numbers, but it is only 1 string. I hope you solve this 2day.\"\n",
    "# Output: ['10909090','1',2]\n",
    "\n",
    "pattern = re.findall('[0-9]+', my_string)\n",
    "\n",
    "print(pattern)"
   ]
  },
  {
   "cell_type": "markdown",
   "metadata": {},
   "source": [
    "### Escaping Characters"
   ]
  },
  {
   "cell_type": "markdown",
   "metadata": {},
   "source": [
    "##### \\w - look for any Unicode character<br/>\\W - look for anything that isnt a Unicode character\n",
    "\n",
    "[History on Unicode](http://unicode.org/standard/WhatIsUnicode.html)\n",
    "\n",
    "[More on Unicode Characters](https://en.wikipedia.org/wiki/List_of_Unicode_characters)"
   ]
  },
  {
   "cell_type": "code",
   "execution_count": 23,
   "metadata": {},
   "outputs": [
    {
     "name": "stdout",
     "output_type": "stream",
     "text": [
      "['This', 'is', 'a', 'sentance', 'With', 'an', 'exclamation', 'mark', 'at', 'the', 'end']\n",
      "[' ', ' ', ' ', '. ', ' ', ', ', ' ', ' ', ' ', ' ', '!']\n"
     ]
    }
   ],
   "source": [
    "pattern_1 = re.compile('[\\w]+') # unicode (letters, nums, emojis)\n",
    "pattern_2 = re.compile('[\\W]+') # spaces and punctuation\n",
    "\n",
    "string = 'This is a sentence. With an, exclamation mark at the end!'\n",
    "found_1 = pattern_1.findall(string)\n",
    "found_2 = pattern_2.findall(string)\n",
    "print(found_1)\n",
    "print(found_2)"
   ]
  },
  {
   "cell_type": "markdown",
   "metadata": {},
   "source": [
    "##### \\d - look for any digit 0-9<br/>\\D - look for anything that isnt a digit"
   ]
  },
  {
   "cell_type": "code",
   "execution_count": 25,
   "metadata": {},
   "outputs": [
    {
     "name": "stdout",
     "output_type": "stream",
     "text": [
      "['24th', '14th', '1st', '33rd']\n"
     ]
    }
   ],
   "source": [
    "pattern_nums = re.compile('\\d{1,2}[a-z]{2}')\n",
    "\n",
    "found_date = pattern_nums.findall('Today is the 24th the next holiday is the 14th of february. 1st 33rd second')\n",
    "print(found_date)"
   ]
  },
  {
   "cell_type": "markdown",
   "metadata": {},
   "source": [
    "##### \\s - look for any white space<br/>\\S - look for anything that isnt whitespace"
   ]
  },
  {
   "cell_type": "code",
   "execution_count": 26,
   "metadata": {},
   "outputs": [
    {
     "name": "stdout",
     "output_type": "stream",
     "text": [
      "[' ', ' ', ' ', ' ', '    ']\n",
      "['Are', 'you', 'afraid', 'of', 'the', 'dark']\n"
     ]
    }
   ],
   "source": [
    "pattern_no_space = re.compile('\\S[a-z]+')\n",
    "pattern_space = re.compile('\\s+')\n",
    "\n",
    "string = 'Are you afraid of the    dark?'\n",
    "\n",
    "found_space = pattern_space.findall(string)                                  \n",
    "print(found_space)\n",
    "\n",
    "found_dark = pattern_no_space.findall(string)\n",
    "print(found_dark)"
   ]
  },
  {
   "cell_type": "markdown",
   "metadata": {},
   "source": [
    "##### \\b - look for boundaries or edges of a word<br/>\\B - look for anything that isnt a boundary"
   ]
  },
  {
   "cell_type": "code",
   "execution_count": null,
   "metadata": {},
   "outputs": [],
   "source": [
    "pattern_bound = re.compile(r'\\bTheCodingTemple\\b')\n",
    "\n",
    "pattern_bound_none = re.compile(r'\\BTheCodingTemple\\B')\n",
    "\n",
    "no_found_bound = pattern_bound_none.findall(\"TheCodingTemple\")\n",
    "\n",
    "print(no_found_bound)\n",
    "\n",
    "found_bound = pattern_bound.findall(\"TheCodingTemple\")\n",
    "\n",
    "print(found_bound)"
   ]
  },
  {
   "cell_type": "markdown",
   "metadata": {},
   "source": [
    "### Grouping"
   ]
  },
  {
   "cell_type": "code",
   "execution_count": 32,
   "metadata": {},
   "outputs": [
    {
     "name": "stdout",
     "output_type": "stream",
     "text": [
      "[('Max', 'Smith'), ('Sam', 'Darnold'), ('Patrick', 'McCormick')]\n",
      "('Max', 'Smith')\n",
      "Not a name\n",
      "('Sam', 'Darnold')\n",
      "('Patrick', 'McCormick')\n"
     ]
    },
    {
     "data": {
      "text/plain": [
       "('Lebron', 'James')"
      ]
     },
     "execution_count": 32,
     "metadata": {},
     "output_type": "execute_result"
    }
   ],
   "source": [
    "my_string = \"Max Smith, aaron rodgers, Sam Darnold, Patrick McCormick\"\n",
    "\n",
    "# Group of names Regex Compiler\n",
    "pattern_name = re.compile('([A-Z][a-zA-Z]+) ([A-Z][A-Za-z]+)')\n",
    "\n",
    "found_names = pattern_name.findall(my_string)\n",
    "print(found_names)\n",
    "\n",
    "for name in my_string.split(','):\n",
    "    match = pattern_name.search(name)\n",
    "    \n",
    "    if match:\n",
    "        print(match.groups(2))\n",
    "    else:\n",
    "        print(\"Not a name\")\n",
    "\n",
    "match = pattern_name.search('Lebron James')\n",
    "match.groups()"
   ]
  },
  {
   "cell_type": "markdown",
   "metadata": {},
   "source": [
    "##### In-class Exercise 2:\n",
    "\n",
    "Write a function using regular expressions to find the domain name in the given email addresses (and return None for the invalid email addresses)<br><b>HINT: Use '|' for either or</b>"
   ]
  },
  {
   "cell_type": "code",
   "execution_count": 59,
   "metadata": {
    "scrolled": true
   },
   "outputs": [
    {
     "name": "stdout",
     "output_type": "stream",
     "text": [
      "None\n",
      "pocohontas1776@gmail.com\n",
      "None\n",
      "yourfavoriteband@g6.org\n",
      "None\n"
     ]
    }
   ],
   "source": [
    "my_emails = [\"jordanw@codingtemple.orgcom\", \"pocohontas1776@gmail.com\", \"helloworld@aol..com\",\n",
    "             \"yourfavoriteband@g6.org\", \"@codingtemple.com\"]\n",
    "\n",
    "# You can also use the $ at the end of your compile expression -- this stops the search\n",
    "\n",
    "#.com OR .org => com|org\n",
    "\n",
    "#Expected output:\n",
    "#None\n",
    "#pocohontas1776@gmail.com\n",
    "#None\n",
    "#yourfavoriteband@g6.org\n",
    "#None\n",
    "\n",
    "pattern_email = re.compile(\"[a-z0-9]+@[a-z0-9]+.(com|org)$\")\n",
    "    \n",
    "def exercise():\n",
    "    for email in my_emails:\n",
    "        match = pattern_email.match(email)\n",
    "\n",
    "        if match:\n",
    "            print(email)\n",
    "#             print(email[match.span()[0]:match.span()[1]])\n",
    "        else:\n",
    "            print(\"None\")\n",
    "            \n",
    "exercise()"
   ]
  },
  {
   "cell_type": "markdown",
   "metadata": {},
   "source": [
    "### Opening a File <br>\n",
    "<p>Python gives us a couple ways to import files, below are the two used most often.</p>"
   ]
  },
  {
   "cell_type": "markdown",
   "metadata": {},
   "source": [
    "##### open()"
   ]
  },
  {
   "cell_type": "code",
   "execution_count": 62,
   "metadata": {},
   "outputs": [
    {
     "name": "stdout",
     "output_type": "stream",
     "text": [
      "Hawkins, Derek\tderek@codingtemple.com\t(555) 555-5555\tTeacher, Coding Temple\t@derekhawkins\n",
      "Zhai, Mo\tmozhai@codingtemple.com\t(555) 555-5554\tTeacher, Coding Temple\n",
      "Johnson, Joe\tjoejohnson@codingtemple.com\t\tJohson, Joe\n",
      "Osterberg, Sven-Erik\tgovernor@norrbotten.co.se\t\tGovernor, Norrbotten\t@sverik\n",
      ", Tim\ttim@killerrabbit.com\t\tEnchanter, Killer Rabbit Cave\n",
      "Butz, Ryan\tryanb@codingtemple.com\t(555) 555-5543\tCEO, Coding Temple\t@ryanbutz\n",
      "Doctor, The\tdoctor+companion@tardis.co.uk\t\tTime Lord, Gallifrey\n",
      "Exampleson, Example\tme@example.com\t555-555-5552\tExample, Example Co.\t@example\n",
      "Pael, Ripal\tripalp@codingtemple.com\t(555) 555-5553\tTeacher, Coding Temple\t@ripalp\n",
      "Vader, Darth\tdarth-vader@empire.gov\t(555) 555-4444\tSith Lord, Galactic Empire\t@darthvader\n",
      "Fernandez de la Vega Sanz, Maria Teresa\tmtfvs@spain.gov\t\tFirst Deputy Prime Minister, Spanish Gov\n",
      "\n"
     ]
    }
   ],
   "source": [
    "f = open(\"names.txt\")\n",
    "\n",
    "data = f.read()\n",
    "\n",
    "print(data)\n",
    "\n",
    "f.close()"
   ]
  },
  {
   "cell_type": "markdown",
   "metadata": {},
   "source": [
    "##### with open()"
   ]
  },
  {
   "cell_type": "code",
   "execution_count": 63,
   "metadata": {},
   "outputs": [
    {
     "name": "stdout",
     "output_type": "stream",
     "text": [
      "Hawkins, Derek\tderek@codingtemple.com\t(555) 555-5555\tTeacher, Coding Temple\t@derekhawkins\n",
      "Zhai, Mo\tmozhai@codingtemple.com\t(555) 555-5554\tTeacher, Coding Temple\n",
      "Johnson, Joe\tjoejohnson@codingtemple.com\t\tJohson, Joe\n",
      "Osterberg, Sven-Erik\tgovernor@norrbotten.co.se\t\tGovernor, Norrbotten\t@sverik\n",
      ", Tim\ttim@killerrabbit.com\t\tEnchanter, Killer Rabbit Cave\n",
      "Butz, Ryan\tryanb@codingtemple.com\t(555) 555-5543\tCEO, Coding Temple\t@ryanbutz\n",
      "Doctor, The\tdoctor+companion@tardis.co.uk\t\tTime Lord, Gallifrey\n",
      "Exampleson, Example\tme@example.com\t555-555-5552\tExample, Example Co.\t@example\n",
      "Pael, Ripal\tripalp@codingtemple.com\t(555) 555-5553\tTeacher, Coding Temple\t@ripalp\n",
      "Vader, Darth\tdarth-vader@empire.gov\t(555) 555-4444\tSith Lord, Galactic Empire\t@darthvader\n",
      "Fernandez de la Vega Sanz, Maria Teresa\tmtfvs@spain.gov\t\tFirst Deputy Prime Minister, Spanish Gov\n",
      "\n"
     ]
    }
   ],
   "source": [
    "with open('names.txt') as f:\n",
    "    data = f.read()\n",
    "    print(data)"
   ]
  },
  {
   "cell_type": "markdown",
   "metadata": {},
   "source": [
    "##### re.match()"
   ]
  },
  {
   "cell_type": "code",
   "execution_count": 64,
   "metadata": {},
   "outputs": [
    {
     "name": "stdout",
     "output_type": "stream",
     "text": [
      "<re.Match object; span=(0, 14), match='Hawkins, Derek'>\n"
     ]
    }
   ],
   "source": [
    "print(re.match(r\"Hawkins, Derek\", data))"
   ]
  },
  {
   "cell_type": "markdown",
   "metadata": {},
   "source": [
    "##### re.search()"
   ]
  },
  {
   "cell_type": "code",
   "execution_count": 65,
   "metadata": {},
   "outputs": [
    {
     "name": "stdout",
     "output_type": "stream",
     "text": [
      "<re.Match object; span=(582, 605), match='ripalp@codingtemple.com'>\n"
     ]
    }
   ],
   "source": [
    "print(re.search(r\"ripalp@codingtemple.com\",data))"
   ]
  },
  {
   "cell_type": "markdown",
   "metadata": {},
   "source": [
    "##### Store the String to a Variable"
   ]
  },
  {
   "cell_type": "code",
   "execution_count": 66,
   "metadata": {},
   "outputs": [
    {
     "name": "stdout",
     "output_type": "stream",
     "text": [
      "What would you like to search for?... @darthvader\n",
      "I found your data: ['@darthvader']\n"
     ]
    }
   ],
   "source": [
    "answer = input(\"What would you like to search for?... \")\n",
    "\n",
    "found = re.findall(answer,data)\n",
    "\n",
    "if found:\n",
    "    print(f\"I found your data: {found}\")\n",
    "else:\n",
    "    print(\"It ain't here boss...\")"
   ]
  },
  {
   "cell_type": "markdown",
   "metadata": {},
   "source": [
    "### In-Class Exercise #3 <br>\n",
    "<p>Print each persons name and twitter handle, using groups, should look like:</p>\n",
    "<p>==============<br>\n",
    "   Full Name / Twitter<br>\n",
    "   ==============</p>\n",
    "Derek Hawkins / @derekhawkins\n",
    "\n",
    " Erik Sven-Osterberg / @sverik\n",
    "\n",
    " Ryan Butz / @ryanbutz\n",
    "\n",
    " Example Exampleson / @example\n",
    "\n",
    " Ripal Pael / @ripalp\n",
    "\n",
    " Darth Vader / @darthvader"
   ]
  },
  {
   "cell_type": "code",
   "execution_count": 100,
   "metadata": {
    "scrolled": true
   },
   "outputs": [
    {
     "name": "stdout",
     "output_type": "stream",
     "text": [
      "Hawkins, Derek\tderek@codingtemple.com\t(555) 555-5555\tTeacher, Coding Temple\t@derekhawkins\n",
      "\n",
      "==============\n",
      "Full Name / Twitter\n",
      "==============\n",
      "Derek Hawkins / @derekhawkins\n",
      "Erik Sven-Osterberg / @sverik\n",
      "Ryan Butz / @ryanbutz\n",
      "Example Exampleson / @example\n",
      "Ripal Pael / @ripalp\n",
      "Darth Vader / @darthvader\n"
     ]
    }
   ],
   "source": [
    "with open(\"names.txt\")as f:\n",
    "    data = f.readlines()\n",
    "    print(data[0])\n",
    "# ([A-Z][a-z]+), ([\\w -]*)([A-Z][a-z]+).*\\s(@[a-zA-Z0-9]+$)\n",
    "pattern = re.compile(\"([A-Z][a-z]+), ([\\w-]*)([A-Z][a-z]+).*\\s(@[a-z]+$)\")\n",
    "\n",
    "print(\"==============\")\n",
    "print(\"Full Name / Twitter\")\n",
    "print(\"==============\")\n",
    "\n",
    "for person in data:\n",
    "    match = pattern.search(person)\n",
    "    \n",
    "    if match:\n",
    "        print(f\"{match.group(3)} {match.group(2)}{match.group(1)} / {match.group(4)}\")"
   ]
  },
  {
   "cell_type": "markdown",
   "metadata": {},
   "source": [
    "### Regex project\n",
    "\n",
    "Use python to read the file regex_test.txt and print the last name on each line using regular expressions and groups (return None for names with no first and last name, or names that aren't properly capitalized)\n",
    "##### Hint: use with open() and readlines()"
   ]
  },
  {
   "cell_type": "code",
   "execution_count": null,
   "metadata": {},
   "outputs": [],
   "source": [
    "\"\"\"\n",
    "Expected Output\n",
    "Abraham Lincoln\n",
    "Andrew P Garfield\n",
    "Connor Milliken\n",
    "Jordan Alexander Williams\n",
    "None\n",
    "None\n",
    "\"\"\""
   ]
  },
  {
   "cell_type": "code",
   "execution_count": null,
   "metadata": {},
   "outputs": [],
   "source": [
    "with open(\"regex_test.txt\") as f:\n",
    "    data = f.readlines()\n",
    "    print(data)"
   ]
  }
 ],
 "metadata": {
  "kernelspec": {
   "display_name": "Python 3 (ipykernel)",
   "language": "python",
   "name": "python3"
  },
  "language_info": {
   "codemirror_mode": {
    "name": "ipython",
    "version": 3
   },
   "file_extension": ".py",
   "mimetype": "text/x-python",
   "name": "python",
   "nbconvert_exporter": "python",
   "pygments_lexer": "ipython3",
   "version": "3.9.7"
  }
 },
 "nbformat": 4,
 "nbformat_minor": 2
}
